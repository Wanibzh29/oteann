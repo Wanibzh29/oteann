{
 "cells": [
  {
   "cell_type": "code",
   "execution_count": 1,
   "metadata": {},
   "outputs": [],
   "source": [
    "import pandas as pd\n",
    "import numpy as np\n",
    "import seaborn as sns\n",
    "import matplotlib.pyplot as plt\n",
    "import datetime"
   ]
  },
  {
   "cell_type": "code",
   "execution_count": 2,
   "metadata": {},
   "outputs": [
    {
     "name": "stdout",
     "output_type": "stream",
     "text": [
      "oteann_results_2020-03-17.csv\n"
     ]
    }
   ],
   "source": [
    "date = '2020-03-17'\n",
    "filename = 'oteann_results_'+date+'.csv'\n",
    "df_results = pd.read_csv(filename)\n",
    "print(filename)"
   ]
  },
  {
   "cell_type": "code",
   "execution_count": 3,
   "metadata": {},
   "outputs": [
    {
     "data": {
      "text/plain": [
       "(340, 39)"
      ]
     },
     "execution_count": 3,
     "metadata": {},
     "output_type": "execute_result"
    }
   ],
   "source": [
    "#df_results.drop(df_results.tail(X).index,inplace=True)\n",
    "df_results.shape"
   ]
  },
  {
   "cell_type": "code",
   "execution_count": 4,
   "metadata": {},
   "outputs": [
    {
     "data": {
      "text/html": [
       "<div>\n",
       "<style scoped>\n",
       "    .dataframe tbody tr th:only-of-type {\n",
       "        vertical-align: middle;\n",
       "    }\n",
       "\n",
       "    .dataframe tbody tr th {\n",
       "        vertical-align: top;\n",
       "    }\n",
       "\n",
       "    .dataframe thead th {\n",
       "        text-align: right;\n",
       "    }\n",
       "</style>\n",
       "<table border=\"1\" class=\"dataframe\">\n",
       "  <thead>\n",
       "    <tr style=\"text-align: right;\">\n",
       "      <th></th>\n",
       "      <th>date</th>\n",
       "      <th>time</th>\n",
       "      <th>lang</th>\n",
       "      <th>task</th>\n",
       "      <th>lstm</th>\n",
       "      <th>word_len_mean</th>\n",
       "      <th>pronunciation_len_mean</th>\n",
       "      <th>nb_samples</th>\n",
       "      <th>max_len_input</th>\n",
       "      <th>max_len_target</th>\n",
       "      <th>...</th>\n",
       "      <th>test_err_2_label</th>\n",
       "      <th>test_err_2_nb</th>\n",
       "      <th>test_err_2_word</th>\n",
       "      <th>test_err_2_pronunciation</th>\n",
       "      <th>test_err_2_prediction</th>\n",
       "      <th>test_err_3_label</th>\n",
       "      <th>test_err_3_nb</th>\n",
       "      <th>test_err_3_word</th>\n",
       "      <th>test_err_3_pronunciation</th>\n",
       "      <th>test_err_3_prediction</th>\n",
       "    </tr>\n",
       "  </thead>\n",
       "  <tbody>\n",
       "    <tr>\n",
       "      <td>330</td>\n",
       "      <td>2020-03-19</td>\n",
       "      <td>18:36:02</td>\n",
       "      <td>nl</td>\n",
       "      <td>write</td>\n",
       "      <td>512</td>\n",
       "      <td>8.6</td>\n",
       "      <td>7.8</td>\n",
       "      <td>13344</td>\n",
       "      <td>24</td>\n",
       "      <td>26</td>\n",
       "      <td>...</td>\n",
       "      <td>w:-.d.+.t.</td>\n",
       "      <td>16</td>\n",
       "      <td>maand</td>\n",
       "      <td>maːnt</td>\n",
       "      <td>maant</td>\n",
       "      <td>w:-.+.t.</td>\n",
       "      <td>14</td>\n",
       "      <td>schrikaanjagendst</td>\n",
       "      <td>sxrɪkanjaɣəntst</td>\n",
       "      <td>schrikaanjagendstt</td>\n",
       "    </tr>\n",
       "    <tr>\n",
       "      <td>331</td>\n",
       "      <td>2020-03-19</td>\n",
       "      <td>18:43:36</td>\n",
       "      <td>nl</td>\n",
       "      <td>read</td>\n",
       "      <td>512</td>\n",
       "      <td>8.6</td>\n",
       "      <td>7.8</td>\n",
       "      <td>13344</td>\n",
       "      <td>25</td>\n",
       "      <td>25</td>\n",
       "      <td>...</td>\n",
       "      <td>r:-.ɛ.+.ə.</td>\n",
       "      <td>9</td>\n",
       "      <td>tsaddeks</td>\n",
       "      <td>tsɑdɛks</td>\n",
       "      <td>tsɑdəks</td>\n",
       "      <td>r:-.χ.+.x.</td>\n",
       "      <td>9</td>\n",
       "      <td>schelde</td>\n",
       "      <td>sχɛldə</td>\n",
       "      <td>sxɛldə</td>\n",
       "    </tr>\n",
       "    <tr>\n",
       "      <td>332</td>\n",
       "      <td>2020-03-19</td>\n",
       "      <td>18:49:16</td>\n",
       "      <td>pt</td>\n",
       "      <td>write</td>\n",
       "      <td>512</td>\n",
       "      <td>7.1</td>\n",
       "      <td>7.0</td>\n",
       "      <td>13722</td>\n",
       "      <td>20</td>\n",
       "      <td>23</td>\n",
       "      <td>...</td>\n",
       "      <td>w:-.c.+.s.</td>\n",
       "      <td>13</td>\n",
       "      <td>cinema</td>\n",
       "      <td>sinemɐ</td>\n",
       "      <td>sinema</td>\n",
       "      <td>w:-.u.+.o.</td>\n",
       "      <td>13</td>\n",
       "      <td>cru</td>\n",
       "      <td>kɾu</td>\n",
       "      <td>cro</td>\n",
       "    </tr>\n",
       "    <tr>\n",
       "      <td>333</td>\n",
       "      <td>2020-03-19</td>\n",
       "      <td>18:54:17</td>\n",
       "      <td>pt</td>\n",
       "      <td>read</td>\n",
       "      <td>512</td>\n",
       "      <td>7.1</td>\n",
       "      <td>7.0</td>\n",
       "      <td>13722</td>\n",
       "      <td>22</td>\n",
       "      <td>21</td>\n",
       "      <td>...</td>\n",
       "      <td>r:-.o.+.u.</td>\n",
       "      <td>26</td>\n",
       "      <td>fraco</td>\n",
       "      <td>fɾako</td>\n",
       "      <td>fɾaku</td>\n",
       "      <td>r:-.u.+.o.</td>\n",
       "      <td>22</td>\n",
       "      <td>legionário</td>\n",
       "      <td>leʒionaɾiu</td>\n",
       "      <td>leʒionaɾio</td>\n",
       "    </tr>\n",
       "    <tr>\n",
       "      <td>334</td>\n",
       "      <td>2020-03-19</td>\n",
       "      <td>18:58:59</td>\n",
       "      <td>ru</td>\n",
       "      <td>write</td>\n",
       "      <td>512</td>\n",
       "      <td>10.7</td>\n",
       "      <td>10.5</td>\n",
       "      <td>304525</td>\n",
       "      <td>27</td>\n",
       "      <td>26</td>\n",
       "      <td>...</td>\n",
       "      <td>w:-.а.+.о.</td>\n",
       "      <td>32</td>\n",
       "      <td>бомбанув</td>\n",
       "      <td>bəmbənʊf</td>\n",
       "      <td>бомбонув</td>\n",
       "      <td>w:-.е.+.и.</td>\n",
       "      <td>29</td>\n",
       "      <td>крупнев</td>\n",
       "      <td>krʊpnɪf</td>\n",
       "      <td>крупнив</td>\n",
       "    </tr>\n",
       "    <tr>\n",
       "      <td>335</td>\n",
       "      <td>2020-03-19</td>\n",
       "      <td>19:07:15</td>\n",
       "      <td>ru</td>\n",
       "      <td>read</td>\n",
       "      <td>512</td>\n",
       "      <td>10.7</td>\n",
       "      <td>10.5</td>\n",
       "      <td>304525</td>\n",
       "      <td>25</td>\n",
       "      <td>28</td>\n",
       "      <td>...</td>\n",
       "      <td>r:-.+.ɪ.</td>\n",
       "      <td>5</td>\n",
       "      <td>классика</td>\n",
       "      <td>kləsɪkə</td>\n",
       "      <td>kləsɪɪkə</td>\n",
       "      <td>r:-.+.r.</td>\n",
       "      <td>4</td>\n",
       "      <td>фиссура</td>\n",
       "      <td>fɪsʊrə</td>\n",
       "      <td>fɪsʊrrə</td>\n",
       "    </tr>\n",
       "    <tr>\n",
       "      <td>336</td>\n",
       "      <td>2020-03-19</td>\n",
       "      <td>19:14:52</td>\n",
       "      <td>sh</td>\n",
       "      <td>write</td>\n",
       "      <td>512</td>\n",
       "      <td>8.9</td>\n",
       "      <td>9.1</td>\n",
       "      <td>98576</td>\n",
       "      <td>24</td>\n",
       "      <td>24</td>\n",
       "      <td>...</td>\n",
       "      <td>w:-.c.+.t.</td>\n",
       "      <td>3</td>\n",
       "      <td>polumjesec</td>\n",
       "      <td>pôlumjesets</td>\n",
       "      <td>polumjeste</td>\n",
       "      <td>w:-.i.+.č.</td>\n",
       "      <td>2</td>\n",
       "      <td>podvoljčić</td>\n",
       "      <td>podʋǒʎtʃitɕ</td>\n",
       "      <td>podvoljččć</td>\n",
       "    </tr>\n",
       "    <tr>\n",
       "      <td>337</td>\n",
       "      <td>2020-03-19</td>\n",
       "      <td>19:22:01</td>\n",
       "      <td>sh</td>\n",
       "      <td>read</td>\n",
       "      <td>512</td>\n",
       "      <td>8.9</td>\n",
       "      <td>9.1</td>\n",
       "      <td>98576</td>\n",
       "      <td>23</td>\n",
       "      <td>25</td>\n",
       "      <td>...</td>\n",
       "      <td>r:-.â.+.ǎ.</td>\n",
       "      <td>23</td>\n",
       "      <td>davorski</td>\n",
       "      <td>dâʋorski</td>\n",
       "      <td>dǎʋorski</td>\n",
       "      <td>r:-.ǎ.+.a.</td>\n",
       "      <td>22</td>\n",
       "      <td>špatula</td>\n",
       "      <td>ʃpǎtula</td>\n",
       "      <td>ʃpatula</td>\n",
       "    </tr>\n",
       "    <tr>\n",
       "      <td>338</td>\n",
       "      <td>2020-03-19</td>\n",
       "      <td>19:29:19</td>\n",
       "      <td>tr</td>\n",
       "      <td>write</td>\n",
       "      <td>512</td>\n",
       "      <td>10.1</td>\n",
       "      <td>10.3</td>\n",
       "      <td>117850</td>\n",
       "      <td>27</td>\n",
       "      <td>26</td>\n",
       "      <td>...</td>\n",
       "      <td>w:-.â.+.a.</td>\n",
       "      <td>6</td>\n",
       "      <td>tekâmüle</td>\n",
       "      <td>tekamylɛ</td>\n",
       "      <td>tekamüle</td>\n",
       "      <td>w:-.i.+.r.</td>\n",
       "      <td>2</td>\n",
       "      <td>başgardiyan</td>\n",
       "      <td>baʃɡardijan</td>\n",
       "      <td>başgardryan</td>\n",
       "    </tr>\n",
       "    <tr>\n",
       "      <td>339</td>\n",
       "      <td>2020-03-19</td>\n",
       "      <td>19:38:39</td>\n",
       "      <td>tr</td>\n",
       "      <td>read</td>\n",
       "      <td>512</td>\n",
       "      <td>10.1</td>\n",
       "      <td>10.3</td>\n",
       "      <td>117850</td>\n",
       "      <td>25</td>\n",
       "      <td>28</td>\n",
       "      <td>...</td>\n",
       "      <td>r:-.ɫ.+.ɯ.</td>\n",
       "      <td>3</td>\n",
       "      <td>kımıldatılırsınız</td>\n",
       "      <td>kɯmɯɫdatɯɫɯrsɯnɯz</td>\n",
       "      <td>kɯmɯɫdatɯɯrɯsɯnɯz</td>\n",
       "      <td>r:-.ɫ.+.l.</td>\n",
       "      <td>3</td>\n",
       "      <td>diplomat</td>\n",
       "      <td>dɪpɫomat</td>\n",
       "      <td>dɪplomat</td>\n",
       "    </tr>\n",
       "  </tbody>\n",
       "</table>\n",
       "<p>10 rows × 39 columns</p>\n",
       "</div>"
      ],
      "text/plain": [
       "           date      time lang   task  lstm  word_len_mean  \\\n",
       "330  2020-03-19  18:36:02   nl  write   512            8.6   \n",
       "331  2020-03-19  18:43:36   nl   read   512            8.6   \n",
       "332  2020-03-19  18:49:16   pt  write   512            7.1   \n",
       "333  2020-03-19  18:54:17   pt   read   512            7.1   \n",
       "334  2020-03-19  18:58:59   ru  write   512           10.7   \n",
       "335  2020-03-19  19:07:15   ru   read   512           10.7   \n",
       "336  2020-03-19  19:14:52   sh  write   512            8.9   \n",
       "337  2020-03-19  19:22:01   sh   read   512            8.9   \n",
       "338  2020-03-19  19:29:19   tr  write   512           10.1   \n",
       "339  2020-03-19  19:38:39   tr   read   512           10.1   \n",
       "\n",
       "     pronunciation_len_mean  nb_samples  max_len_input  max_len_target  ...  \\\n",
       "330                     7.8       13344             24              26  ...   \n",
       "331                     7.8       13344             25              25  ...   \n",
       "332                     7.0       13722             20              23  ...   \n",
       "333                     7.0       13722             22              21  ...   \n",
       "334                    10.5      304525             27              26  ...   \n",
       "335                    10.5      304525             25              28  ...   \n",
       "336                     9.1       98576             24              24  ...   \n",
       "337                     9.1       98576             23              25  ...   \n",
       "338                    10.3      117850             27              26  ...   \n",
       "339                    10.3      117850             25              28  ...   \n",
       "\n",
       "     test_err_2_label  test_err_2_nb    test_err_2_word  \\\n",
       "330        w:-.d.+.t.             16              maand   \n",
       "331        r:-.ɛ.+.ə.              9           tsaddeks   \n",
       "332        w:-.c.+.s.             13             cinema   \n",
       "333        r:-.o.+.u.             26              fraco   \n",
       "334        w:-.а.+.о.             32           бомбанув   \n",
       "335          r:-.+.ɪ.              5           классика   \n",
       "336        w:-.c.+.t.              3         polumjesec   \n",
       "337        r:-.â.+.ǎ.             23           davorski   \n",
       "338        w:-.â.+.a.              6           tekâmüle   \n",
       "339        r:-.ɫ.+.ɯ.              3  kımıldatılırsınız   \n",
       "\n",
       "    test_err_2_pronunciation  test_err_2_prediction  test_err_3_label  \\\n",
       "330                    maːnt                  maant          w:-.+.t.   \n",
       "331                  tsɑdɛks                tsɑdəks        r:-.χ.+.x.   \n",
       "332                   sinemɐ                 sinema        w:-.u.+.o.   \n",
       "333                    fɾako                  fɾaku        r:-.u.+.o.   \n",
       "334                 bəmbənʊf               бомбонув        w:-.е.+.и.   \n",
       "335                  kləsɪkə               kləsɪɪkə          r:-.+.r.   \n",
       "336              pôlumjesets             polumjeste        w:-.i.+.č.   \n",
       "337                 dâʋorski               dǎʋorski        r:-.ǎ.+.a.   \n",
       "338                 tekamylɛ               tekamüle        w:-.i.+.r.   \n",
       "339        kɯmɯɫdatɯɫɯrsɯnɯz      kɯmɯɫdatɯɯrɯsɯnɯz        r:-.ɫ.+.l.   \n",
       "\n",
       "     test_err_3_nb    test_err_3_word  test_err_3_pronunciation  \\\n",
       "330             14  schrikaanjagendst           sxrɪkanjaɣəntst   \n",
       "331              9            schelde                    sχɛldə   \n",
       "332             13                cru                       kɾu   \n",
       "333             22         legionário                leʒionaɾiu   \n",
       "334             29            крупнев                   krʊpnɪf   \n",
       "335              4            фиссура                    fɪsʊrə   \n",
       "336              2         podvoljčić               podʋǒʎtʃitɕ   \n",
       "337             22            špatula                   ʃpǎtula   \n",
       "338              2        başgardiyan               baʃɡardijan   \n",
       "339              3           diplomat                  dɪpɫomat   \n",
       "\n",
       "     test_err_3_prediction  \n",
       "330     schrikaanjagendstt  \n",
       "331                 sxɛldə  \n",
       "332                    cro  \n",
       "333             leʒionaɾio  \n",
       "334                крупнив  \n",
       "335                fɪsʊrrə  \n",
       "336             podvoljččć  \n",
       "337                ʃpatula  \n",
       "338            başgardryan  \n",
       "339               dɪplomat  \n",
       "\n",
       "[10 rows x 39 columns]"
      ]
     },
     "execution_count": 4,
     "metadata": {},
     "output_type": "execute_result"
    }
   ],
   "source": [
    "df_results.tail(10)"
   ]
  },
  {
   "cell_type": "code",
   "execution_count": 5,
   "metadata": {},
   "outputs": [
    {
     "name": "stdout",
     "output_type": "stream",
     "text": [
      "nb_tasks=2\n",
      "nb_langs=17\n",
      "nb_episodes=10\n"
     ]
    }
   ],
   "source": [
    "tasks  = df_results.task.unique()\n",
    "tasks\n",
    "nb_tasks=len(tasks)\n",
    "print('nb_tasks=%d' % nb_tasks)\n",
    "langs  = df_results.lang.unique()\n",
    "nb_langs=len(langs)\n",
    "print('nb_langs=%d' % nb_langs)\n",
    "\n",
    "nb_episodes= df_results.shape[0]/(nb_langs*nb_tasks)\n",
    "print('nb_episodes=%d' % nb_episodes)"
   ]
  },
  {
   "cell_type": "code",
   "execution_count": 6,
   "metadata": {},
   "outputs": [
    {
     "data": {
      "text/plain": [
       "Index(['date', 'time', 'lang', 'task', 'lstm', 'word_len_mean',\n",
       "       'pronunciation_len_mean', 'nb_samples', 'max_len_input',\n",
       "       'max_len_target', 'nb_input_symbols', 'nb_output_symbols', 'x_symbols',\n",
       "       'y_symbols', 'x_nb_symbols', 'y_nb_symbols', 'trainable_params',\n",
       "       'training_duration', 'val_accuracy', 'nb_predictions',\n",
       "       'nb_good_predictions', 'test_err_index', 'test_accuracy',\n",
       "       'test_duration', 'test_err_1_label', 'test_err_1_nb', 'test_err_1_word',\n",
       "       'test_err_1_pronunciation', 'test_err_1_prediction', 'test_err_2_label',\n",
       "       'test_err_2_nb', 'test_err_2_word', 'test_err_2_pronunciation',\n",
       "       'test_err_2_prediction', 'test_err_3_label', 'test_err_3_nb',\n",
       "       'test_err_3_word', 'test_err_3_pronunciation', 'test_err_3_prediction'],\n",
       "      dtype='object')"
      ]
     },
     "execution_count": 6,
     "metadata": {},
     "output_type": "execute_result"
    }
   ],
   "source": [
    "df_results.columns"
   ]
  },
  {
   "cell_type": "code",
   "execution_count": 7,
   "metadata": {},
   "outputs": [
    {
     "data": {
      "image/png": "[encoded data removed]",
      "text/plain": [
       "<Figure size 720x72 with 1 Axes>"
      ]
     },
     "metadata": {},
     "output_type": "display_data"
    },
    {
     "data": {
      "image/png": "[encoded data removed]",
      "text/plain": [
       "<Figure size 720x72 with 1 Axes>"
      ]
     },
     "metadata": {},
     "output_type": "display_data"
    }
   ],
   "source": [
    "def display_results(df):\n",
    "    sns.set(style=\"whitegrid\")\n",
    "    current_palette = sns.color_palette()\n",
    "    \n",
    "    # rescale accuracy for better reading once displayed\n",
    "    df['accuracy'] = df['test_accuracy'] * 100\n",
    "    \n",
    "    for task in tasks:\n",
    "        df_o = df[df.task==task].sort_values(by='lang')\n",
    "        df_o = df_o[['task', 'lang', 'accuracy']]\n",
    "        \n",
    "        #df_o = df_o.groupby('lang', as_index=False).mean()\n",
    "        sns.palplot(current_palette)\n",
    "        ax = sns.barplot(x=\"lang\", y=\"accuracy\", data=df_o, ci='sd', palette=current_palette)\n",
    "    \n",
    "        # add the accuracy number on the top of each bar\n",
    "        i=0\n",
    "        for index, row in df_o.iterrows():\n",
    "            if index >= (nb_langs*nb_tasks):\n",
    "                break\n",
    "            accuracy_mean = df[df.lang==row.lang][df.task==task].accuracy.mean()\n",
    "            accuracy_mean = int(round(accuracy_mean))\n",
    "            ax.text(i, row.accuracy+10, str(round(accuracy_mean)), color='black', ha=\"center\")\n",
    "            i+=1\n",
    "        plt.title(task.capitalize())\n",
    "        plt.ylim(0, 100)\n",
    "        plt.show()\n",
    "\n",
    "sns.set(rc={'figure.figsize':(11.7,8.27)})\n",
    "        \n",
    "display_results(df_results)"
   ]
  },
  {
   "cell_type": "code",
   "execution_count": 8,
   "metadata": {},
   "outputs": [],
   "source": [
    "nb_tasks = len(df_results.task.unique())\n",
    "nb_langs = len(df_results.lang.unique())"
   ]
  },
  {
   "cell_type": "code",
   "execution_count": 9,
   "metadata": {},
   "outputs": [],
   "source": [
    "def display_history(df):\n",
    "    for i, row in df.iterrows():\n",
    "        print('test:%d, LANG=%s' % (i, row.lang))\n",
    "        for column in df.columns:\n",
    "            print('%s:%s' % (column, str(row[column])))\n",
    "        print('=================================================')\n",
    "#display_history(df_results.head(nb_tasks*nb_langs))"
   ]
  },
  {
   "cell_type": "code",
   "execution_count": 10,
   "metadata": {},
   "outputs": [
    {
     "name": "stderr",
     "output_type": "stream",
     "text": [
      "/home/xavier/.local/lib/python3.6/site-packages/ipykernel_launcher.py:2: UserWarning: Boolean Series key will be reindexed to match DataFrame index.\n",
      "  \n"
     ]
    },
    {
     "data": {
      "text/plain": [
       "8       5.0\n",
       "42     15.0\n",
       "76     14.0\n",
       "110    11.0\n",
       "144    19.0\n",
       "178     6.0\n",
       "212    10.0\n",
       "246    16.0\n",
       "280     9.0\n",
       "314    18.0\n",
       "Name: accuracy, dtype: float64"
      ]
     },
     "execution_count": 10,
     "metadata": {},
     "output_type": "execute_result"
    }
   ],
   "source": [
    "# Calculate min, mean, max\n",
    "df_dew = df_results[df_results.lang=='de'][df_results.task=='write']\n",
    "df_dew.accuracy"
   ]
  },
  {
   "cell_type": "code",
   "execution_count": 11,
   "metadata": {},
   "outputs": [
    {
     "name": "stdout",
     "output_type": "stream",
     "text": [
      "     test_accuracy_100                            \n",
      "                   min  mean   max count       std\n",
      "lang                                              \n",
      "ar                50.0  57.7  62.0    10  3.128720\n",
      "br                62.0  64.9  68.0    10  1.969207\n",
      "de                 5.0  12.3  19.0    10  4.854551\n",
      "en                18.0  19.8  22.0    10  1.316561\n",
      "eno                0.0   0.0   0.0    10  0.000000\n",
      "ent               89.0  89.9  92.0    10  0.875595\n",
      "es                53.0  56.1  59.0    10  1.791957\n",
      "fi                79.0  80.9  83.0    10  1.197219\n",
      "fr                 2.0   5.7   9.0    10  1.946507\n",
      "fro               88.0  90.5  93.0    10  1.581139\n",
      "it                76.0  81.4  86.0    10  2.836273\n",
      "ko                72.0  74.1  76.0    10  1.286684\n",
      "nl                36.0  41.3  46.0    10  3.335000\n",
      "pt                59.0  63.0  66.0    10  2.624669\n",
      "ru                27.0  29.4  33.0    10  2.118700\n",
      "sh                84.0  87.8  90.0    10  1.873796\n",
      "tr                83.0  87.0  90.0    10  2.000000\n",
      "     test_accuracy_100                            \n",
      "                   min  mean   max count       std\n",
      "lang                                              \n",
      "ar                90.0  91.5  94.0    10  1.354006\n",
      "br                66.0  70.0  72.0    10  1.763834\n",
      "de                30.0  37.6  44.0    10  4.351245\n",
      "en                14.0  18.3  22.0    10  2.311805\n",
      "eno                0.0   0.0   0.0    10  0.000000\n",
      "ent               86.0  90.2  93.0    10  1.932184\n",
      "es                68.0  72.5  75.0    10  2.013841\n",
      "fi                75.0  77.3  81.0    10  1.636392\n",
      "fr                51.0  57.4  61.0    10  2.716207\n",
      "fro               77.0  81.0  83.0    10  1.885618\n",
      "it                57.0  60.8  65.0    10  2.573368\n",
      "ko                85.0  86.8  89.0    10  1.032796\n",
      "nl                38.0  40.4  44.0    10  1.837873\n",
      "pt                19.0  21.0  23.0    10  1.563472\n",
      "ru                71.0  73.9  76.0    10  2.078995\n",
      "sh                45.0  47.9  51.0    10  2.282786\n",
      "tr                88.0  89.4  92.0    10  1.264911\n"
     ]
    }
   ],
   "source": [
    "# Calculate min, mean, max\n",
    "df = df_results\n",
    "df['test_accuracy_100']=df['test_accuracy']*100\n",
    "for task in df['task'].unique(): \n",
    "    df_i = df[df['task'] == task]    \n",
    "    df_i = df_i[['lang','test_accuracy_100']]\n",
    "    print(df_i.groupby('lang').agg({'test_accuracy_100': ['min', 'mean', 'max', 'count', 'std']}))\n"
   ]
  },
  {
   "cell_type": "code",
   "execution_count": 12,
   "metadata": {},
   "outputs": [
    {
     "data": {
      "text/plain": [
       "Text(0.5, 1.0, 'Write')"
      ]
     },
     "execution_count": 12,
     "metadata": {},
     "output_type": "execute_result"
    },
    {
     "data": {
      "image/png": "[encoded data removed]",
      "text/plain": [
       "<Figure size 842.4x595.44 with 1 Axes>"
      ]
     },
     "metadata": {},
     "output_type": "display_data"
    }
   ],
   "source": [
    "ax = sns.boxplot(x='lang', y='test_accuracy_100', data=df[df.task=='write'])\n",
    "ax.set_title('Write')"
   ]
  },
  {
   "cell_type": "code",
   "execution_count": 13,
   "metadata": {},
   "outputs": [
    {
     "data": {
      "text/plain": [
       "Text(0.5, 1.0, 'Read')"
      ]
     },
     "execution_count": 13,
     "metadata": {},
     "output_type": "execute_result"
    },
    {
     "data": {
      "image/png": "[encoded data removed]",
      "text/plain": [
       "<Figure size 842.4x595.44 with 1 Axes>"
      ]
     },
     "metadata": {},
     "output_type": "display_data"
    }
   ],
   "source": [
    "ax = sns.boxplot(x='lang', y='test_accuracy_100', data=df[df.task=='read'])\n",
    "ax.set_title('Read')"
   ]
  }
 ],
 "metadata": {
  "kernelspec": {
   "display_name": "Python 3",
   "language": "python",
   "name": "python3"
  },
  "language_info": {
   "codemirror_mode": {
    "name": "ipython",
    "version": 3
   },
   "file_extension": ".py",
   "mimetype": "text/x-python",
   "name": "python",
   "nbconvert_exporter": "python",
   "pygments_lexer": "ipython3",
   "version": "3.6.9"
  }
 },
 "nbformat": 4,
 "nbformat_minor": 2
}
